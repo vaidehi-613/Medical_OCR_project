{
 "cells": [
  {
   "cell_type": "code",
   "execution_count": 1,
   "id": "3c0e54fc",
   "metadata": {},
   "outputs": [],
   "source": [
    "import cv2\n",
    "from PIL import Image"
   ]
  },
  {
   "cell_type": "code",
   "execution_count": 4,
   "id": "fa649a32",
   "metadata": {},
   "outputs": [
    {
     "data": {
      "text/plain": [
       "array([[206, 206, 206, ..., 185, 185, 185],\n",
       "       [206, 206, 206, ..., 185, 185, 185],\n",
       "       [206, 206, 206, ..., 186, 185, 185],\n",
       "       ...,\n",
       "       [207, 207, 207, ..., 191, 190, 190],\n",
       "       [207, 207, 207, ..., 191, 190, 190],\n",
       "       [207, 207, 207, ..., 191, 191, 190]], dtype=uint8)"
      ]
     },
     "execution_count": 4,
     "metadata": {},
     "output_type": "execute_result"
    }
   ],
   "source": [
    "img = cv2.imread(\"clear_image.jpg\",flags=cv2.IMREAD_GRAYSCALE)\n",
    "img"
   ]
  },
  {
   "cell_type": "code",
   "execution_count": null,
   "id": "d4576453",
   "metadata": {},
   "outputs": [],
   "source": [
    "'''\n",
    "OpenCV-Python is a library of Python bindings designed to solve computer vision problems.\n",
    "cv2.imread() method loads an image from the specified file. If the image cannot be read (because of missing file, improper permissions, unsupported or invalid format) then this method returns an empty matrix.\n",
    "\n",
    "Syntax: cv2.imread(path, flag)\n",
    "\n",
    "Parameters:\n",
    "path: A string representing the path of the image to be read.\n",
    "flag: It specifies the way in which image should be read. It’s default value is cv2.IMREAD_COLOR\n",
    "\n",
    "Return Value: This method returns an image that is loaded from the specified file.\n",
    "\n",
    "Note: The image should be in the working directory or a full path of image should be given.\n",
    "\n",
    "All three types of flags are described below:\n",
    "\n",
    "cv2.IMREAD_COLOR: It specifies to load a color image. Any transparency of image will be neglected. It is the default flag. Alternatively, we can pass integer value 1 for this flag.\n",
    "cv2.IMREAD_GRAYSCALE: It specifies to load an image in grayscale mode. Alternatively, we can pass integer value 0 for this flag.\n",
    "cv2.IMREAD_UNCHANGED: It specifies to load an image as such including alpha channel. Alternatively, we can pass integer value -1 for this flag.\n",
    "\n",
    "\n",
    "'''"
   ]
  },
  {
   "cell_type": "code",
   "execution_count": 6,
   "id": "2673ad88",
   "metadata": {},
   "outputs": [],
   "source": [
    "_, new_img = cv2.threshold(img,150,255,cv2.THRESH_BINARY)\n",
    "Image.fromarray(new_img).show()"
   ]
  },
  {
   "cell_type": "code",
   "execution_count": 7,
   "id": "87bd06b9",
   "metadata": {},
   "outputs": [
    {
     "data": {
      "text/plain": [
       "array([[206, 206, 206, ..., 187, 186, 184],\n",
       "       [206, 206, 206, ..., 186, 185, 185],\n",
       "       [206, 206, 206, ..., 186, 185, 185],\n",
       "       ...,\n",
       "       [162, 157, 152, ..., 184, 184, 184],\n",
       "       [160, 156, 152, ..., 184, 184, 184],\n",
       "       [156, 158, 158, ..., 184, 184, 184]], dtype=uint8)"
      ]
     },
     "execution_count": 7,
     "metadata": {},
     "output_type": "execute_result"
    }
   ],
   "source": [
    "img1 = cv2.imread(\"dark_image.jpg\",flags=cv2.IMREAD_GRAYSCALE)\n",
    "img1"
   ]
  },
  {
   "cell_type": "code",
   "execution_count": 8,
   "id": "5c63e4e7",
   "metadata": {},
   "outputs": [],
   "source": [
    "_, new_img1 = cv2.threshold(img1,150,255,cv2.THRESH_BINARY)\n",
    "Image.fromarray(new_img1).show()"
   ]
  },
  {
   "cell_type": "code",
   "execution_count": 10,
   "id": "96e2a282",
   "metadata": {},
   "outputs": [],
   "source": [
    "new_img1 = cv2.adaptiveThreshold(\n",
    "    img1, 255,\n",
    "    cv2.ADAPTIVE_THRESH_GAUSSIAN_C,\n",
    "    cv2.THRESH_BINARY,\n",
    "    61,\n",
    "    11\n",
    ")\n",
    "\n",
    "Image.fromarray(new_img1).show()"
   ]
  },
  {
   "cell_type": "code",
   "execution_count": null,
   "id": "fe3283ba",
   "metadata": {},
   "outputs": [],
   "source": []
  }
 ],
 "metadata": {
  "kernelspec": {
   "display_name": "Python 3 (ipykernel)",
   "language": "python",
   "name": "python3"
  },
  "language_info": {
   "codemirror_mode": {
    "name": "ipython",
    "version": 3
   },
   "file_extension": ".py",
   "mimetype": "text/x-python",
   "name": "python",
   "nbconvert_exporter": "python",
   "pygments_lexer": "ipython3",
   "version": "3.8.10"
  }
 },
 "nbformat": 4,
 "nbformat_minor": 5
}
