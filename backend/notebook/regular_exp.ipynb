{
 "cells": [
  {
   "cell_type": "code",
   "execution_count": 6,
   "id": "62ddabc2",
   "metadata": {},
   "outputs": [],
   "source": [
    "import re"
   ]
  },
  {
   "cell_type": "code",
   "execution_count": 8,
   "id": "fea24832",
   "metadata": {},
   "outputs": [
    {
     "data": {
      "text/plain": [
       "['7321154321', '1529', '54']"
      ]
     },
     "execution_count": 8,
     "metadata": {},
     "output_type": "execute_result"
    }
   ],
   "source": [
    "text = \"Patient's phone number is 7321154321.Bill amount for the doctor visit is 1529$.Bill amount for medicines is 54 dollars. Paitent can go to our online portal www.awsomehospital.com and pay the bill online.\"\n",
    "\n",
    "pattern = '\\d+'\n",
    "\n",
    "match = re.findall(pattern,text)\n",
    "match"
   ]
  },
  {
   "cell_type": "markdown",
   "id": "0d738451",
   "metadata": {},
   "source": [
    "EXTRACT only phone numbers.phone number is always 10 digits"
   ]
  },
  {
   "cell_type": "code",
   "execution_count": 9,
   "id": "9b7f12a2",
   "metadata": {},
   "outputs": [
    {
     "data": {
      "text/plain": [
       "['7321154321']"
      ]
     },
     "execution_count": 9,
     "metadata": {},
     "output_type": "execute_result"
    }
   ],
   "source": [
    "text = \"Patient's phone number is 7321154321.Bill amount for the doctor visit is 1529$.Bill amount for medicines is 54 dollars. Paitent can go to our online portal www.awsomehospital.com and pay the bill online.\"\n",
    "\n",
    "pattern = '\\d{10}'\n",
    "\n",
    "match = re.findall(pattern,text)\n",
    "match"
   ]
  },
  {
   "cell_type": "markdown",
   "id": "b31185cc",
   "metadata": {},
   "source": [
    "Extract phone number, which is either 10 continuous digits or follows this fromat (xxx)-xxx-xxxx "
   ]
  },
  {
   "cell_type": "code",
   "execution_count": 10,
   "id": "13d5ea41",
   "metadata": {},
   "outputs": [
    {
     "data": {
      "text/plain": [
       "['(732)-111-9999', '7643218972']"
      ]
     },
     "execution_count": 10,
     "metadata": {},
     "output_type": "execute_result"
    }
   ],
   "source": [
    "text = \"Patient's phone is (732)-111-9999, spouse phone number 7643218972. Bill amount is 120$\"\n",
    "pattern = \"\\(\\d{3}\\)-\\d{3}-\\d{4}|\\d{10}\"\n",
    "\n",
    "match = re.findall(pattern,text)\n",
    "match"
   ]
  },
  {
   "cell_type": "markdown",
   "id": "0e8e8489",
   "metadata": {},
   "source": [
    "EXTRACT PHONE NUMBER AND BILL AMOUNT SEPARATELY"
   ]
  },
  {
   "cell_type": "code",
   "execution_count": 11,
   "id": "b4b13701",
   "metadata": {},
   "outputs": [
    {
     "data": {
      "text/plain": [
       "<re.Match object; span=(55, 86), match='7643218972. Bill amount is 120$'>"
      ]
     },
     "execution_count": 11,
     "metadata": {},
     "output_type": "execute_result"
    }
   ],
   "source": [
    "text = \"Patient's phone is (732)-111-9999, spouse phone number 7643218972. Bill amount is 120$\"\n",
    "\n",
    "pattern = \"(\\(\\d{3}\\)-\\d{3}-\\d{4}|\\d{10})\\D+(\\d+)\\$\"\n",
    "\n",
    "match = re.search(pattern,text)\n",
    "match"
   ]
  },
  {
   "cell_type": "code",
   "execution_count": 12,
   "id": "22a6a1ab",
   "metadata": {},
   "outputs": [
    {
     "data": {
      "text/plain": [
       "('7643218972', '120')"
      ]
     },
     "execution_count": 12,
     "metadata": {},
     "output_type": "execute_result"
    }
   ],
   "source": [
    "match.groups()"
   ]
  },
  {
   "cell_type": "code",
   "execution_count": 25,
   "id": "fbc7b6b2",
   "metadata": {},
   "outputs": [],
   "source": [
    "text =\"\"\"\n",
    "\n",
    "Name: Marta Sharapova Date: 5/11/2022\n",
    "\n",
    "Address: 9 tennis court, new Russia, DC\n",
    "\n",
    "Prednisone 20 mg\n",
    "Lialda 2.4 gram\n",
    "\n",
    "Directions:\n",
    "\n",
    "Prednisone, Taper 5 mg every 3 days,\n",
    "Finish in 2.5 weeks a\n",
    "Lialda - take 2 pill everyday for 1 month\n",
    "\n",
    "Refill: 2 times\n",
    "\"\"\""
   ]
  },
  {
   "cell_type": "markdown",
   "id": "f18dec00",
   "metadata": {},
   "source": [
    "EXTRACT NAME "
   ]
  },
  {
   "cell_type": "code",
   "execution_count": 26,
   "id": "98897f45",
   "metadata": {},
   "outputs": [
    {
     "data": {
      "text/plain": [
       "'Marta Sharapova'"
      ]
     },
     "execution_count": 26,
     "metadata": {},
     "output_type": "execute_result"
    }
   ],
   "source": [
    "pattern = \"Name:(.*)Date:\"\n",
    "\n",
    "match = re.findall(pattern,text)\n",
    "match[0].strip()"
   ]
  },
  {
   "cell_type": "markdown",
   "id": "0fae05d5",
   "metadata": {},
   "source": [
    "EXTRACT Address"
   ]
  },
  {
   "cell_type": "code",
   "execution_count": 27,
   "id": "ff21cddf",
   "metadata": {},
   "outputs": [
    {
     "data": {
      "text/plain": [
       "'9 tennis court, new Russia, DC'"
      ]
     },
     "execution_count": 27,
     "metadata": {},
     "output_type": "execute_result"
    }
   ],
   "source": [
    "pattern = \"Address:(.*)\\n\"\n",
    "\n",
    "match = re.findall(pattern,text)\n",
    "match[0].strip()"
   ]
  },
  {
   "cell_type": "raw",
   "id": "6f16d02f",
   "metadata": {},
   "source": [
    "EXTRACT MEDICICE"
   ]
  },
  {
   "cell_type": "code",
   "execution_count": 29,
   "id": "8f2987ce",
   "metadata": {},
   "outputs": [
    {
     "name": "stdout",
     "output_type": "stream",
     "text": [
      "\n",
      "\n",
      "Prednisone 20 mg\n",
      "Lialda 2.4 gram\n",
      "\n",
      "\n"
     ]
    }
   ],
   "source": [
    "pattern = \"Address:[^\\n]*(.*)Directions:\"\n",
    "\n",
    "match = re.findall(pattern,text,flags = re.DOTALL)\n",
    "print(match[0])"
   ]
  },
  {
   "cell_type": "markdown",
   "id": "a965f988",
   "metadata": {},
   "source": [
    "Extracting direction"
   ]
  },
  {
   "cell_type": "code",
   "execution_count": 43,
   "id": "91c1e851",
   "metadata": {},
   "outputs": [
    {
     "name": "stdout",
     "output_type": "stream",
     "text": [
      "\n",
      "\n",
      "Prednisone, Taper 5 mg every 3 days,\n",
      "Finish in 2.5 weeks a\n",
      "Lialda - take 2 pill everyday for 1 month\n",
      "\n",
      "\n"
     ]
    }
   ],
   "source": [
    "pattern = \"Directions:(.*)Refill:\"\n",
    "\n",
    "match = re.findall(pattern,text,flags = re.DOTALL)\n",
    "print(match[0])"
   ]
  },
  {
   "cell_type": "markdown",
   "id": "5cfa8afc",
   "metadata": {},
   "source": [
    "EXTRACT REFILL"
   ]
  },
  {
   "cell_type": "code",
   "execution_count": 51,
   "id": "42508b5e",
   "metadata": {},
   "outputs": [
    {
     "data": {
      "text/plain": [
       "'2'"
      ]
     },
     "execution_count": 51,
     "metadata": {},
     "output_type": "execute_result"
    }
   ],
   "source": [
    "pattern = \"Refill: (\\d+) times\"\n",
    "\n",
    "match = re.findall(pattern,text)\n",
    "match[0].strip()"
   ]
  },
  {
   "cell_type": "code",
   "execution_count": null,
   "id": "2b11c365",
   "metadata": {},
   "outputs": [],
   "source": []
  }
 ],
 "metadata": {
  "kernelspec": {
   "display_name": "Python 3 (ipykernel)",
   "language": "python",
   "name": "python3"
  },
  "language_info": {
   "codemirror_mode": {
    "name": "ipython",
    "version": 3
   },
   "file_extension": ".py",
   "mimetype": "text/x-python",
   "name": "python",
   "nbconvert_exporter": "python",
   "pygments_lexer": "ipython3",
   "version": "3.8.10"
  }
 },
 "nbformat": 4,
 "nbformat_minor": 5
}
