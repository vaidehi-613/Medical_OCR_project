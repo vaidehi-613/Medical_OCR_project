{
 "cells": [
  {
   "cell_type": "code",
   "execution_count": 3,
   "id": "76287eab",
   "metadata": {},
   "outputs": [],
   "source": [
    "from pdf2image import convert_from_path\n",
    "\n",
    "pages = convert_from_path(r'docs\\patient_details\\pd_1.pdf',poppler_path = r'C:\\poppler-22.04.0\\Library\\bin')\n"
   ]
  },
  {
   "cell_type": "code",
   "execution_count": 4,
   "id": "72049fbd",
   "metadata": {},
   "outputs": [
    {
     "data": {
      "text/plain": [
       "[<PIL.PpmImagePlugin.PpmImageFile image mode=RGB size=1867x2000 at 0x210520B04C0>,\n",
       " <PIL.PpmImagePlugin.PpmImageFile image mode=RGB size=2000x1398 at 0x210520B0310>]"
      ]
     },
     "execution_count": 4,
     "metadata": {},
     "output_type": "execute_result"
    }
   ],
   "source": [
    "pages"
   ]
  },
  {
   "cell_type": "code",
   "execution_count": 5,
   "id": "1bd2e440",
   "metadata": {},
   "outputs": [],
   "source": [
    "pages[0].show()"
   ]
  },
  {
   "cell_type": "code",
   "execution_count": 6,
   "id": "0edbfd88",
   "metadata": {},
   "outputs": [
    {
     "name": "stdout",
     "output_type": "stream",
     "text": [
      "47/12/2020\n",
      "\n",
      "Patient Medical Record\n",
      "\n",
      "Patient Information Birth Date\n",
      "Kathy Crawford May 6 1972\n",
      "(737) 988-0851 Weight\n",
      "9264 Ash Dr 95\n",
      "New York City, 10005 .\n",
      "United States Height:\n",
      "190\n",
      "In Case of Emergency\n",
      "m _ eee ee\n",
      "Simeone Crawford 9266 Ash Dr\n",
      "New York City, New York, 10005\n",
      "Home phone United States\n",
      "(990) 375-4621\n",
      "Work phone\n",
      "Genera! Medical History\n",
      "\n",
      "Chicken Pox (Varicella):\n",
      "\n",
      "IMMUNE IMMUNE\n",
      "Have you had the Hepatitis B vaccination?\n",
      "\n",
      "No\n",
      "List any Medical Problems (asthma, seizures, headaches):\n",
      "\n",
      "Migraine\n"
     ]
    }
   ],
   "source": [
    "import pytesseract\n",
    "\n",
    "pytesseract.pytesseract.tesseract_cmd=r'C:\\Program Files\\Tesseract-OCR\\tesseract.exe'\n",
    "text = pytesseract.image_to_string(pages[0],lang='eng')\n",
    "\n",
    "print(text)"
   ]
  },
  {
   "cell_type": "code",
   "execution_count": 7,
   "id": "2cab33dd",
   "metadata": {},
   "outputs": [],
   "source": [
    "import numpy as np\n",
    "import cv2\n",
    "from PIL import Image\n",
    "\n",
    "def preprocess_image(img):\n",
    "     gray = cv2.cvtColor(np.array(img),cv2.COLOR_BGR2GRAY)\n",
    "     resized = cv2.resize(gray, None, fx=1.5, fy=1.5, interpolation=cv2.INTER_LINEAR)\n",
    "     processed_image = cv2.adaptiveThreshold(\n",
    "         resized,\n",
    "         255,\n",
    "         cv2.ADAPTIVE_THRESH_GAUSSIAN_C,\n",
    "         cv2.THRESH_BINARY,\n",
    "         61,\n",
    "         11    \n",
    "     )\n",
    "     return processed_image"
   ]
  },
  {
   "cell_type": "code",
   "execution_count": 8,
   "id": "8e42b0ff",
   "metadata": {},
   "outputs": [
    {
     "name": "stdout",
     "output_type": "stream",
     "text": [
      "17/12/2020\n",
      "\n",
      "Patient Medical Record\n",
      "\n",
      "Patient Information Birth Date\n",
      "\n",
      "Kathy Crawford May 6 1972\n",
      "\n",
      "(737) 988-0851 Weight’\n",
      "\n",
      "9264 Ash Dr 95\n",
      "\n",
      "New York City, 10005 '\n",
      "\n",
      "United States Height:\n",
      "190\n",
      "\n",
      "In Case of Emergency\n",
      "ee J\n",
      "Simeone Crawford 9266 Ash Dr\n",
      "New York City, New York, 10005\n",
      "Home phone United States\n",
      "(990) 375-4621\n",
      "Work phone\n",
      "Genera! Medical History\n",
      "nn ee\n",
      "Chicken Pox (Varicella): Measies:\n",
      "IMMUNE\n",
      "\n",
      "IMMUNE\n",
      "Have you had the Hepatitis B vaccination?\n",
      "\n",
      "No\n",
      "\n",
      "List any Medical Problems (asthma, seizures, headaches}:\n",
      "\n",
      "Migraine\n"
     ]
    }
   ],
   "source": [
    "img =  preprocess_image(pages[0])\n",
    "Image.fromarray(img).show()\n",
    "\n",
    "text = pytesseract.image_to_string(img,lang='eng')\n",
    "\n",
    "print(text)"
   ]
  },
  {
   "cell_type": "markdown",
   "id": "1c5e1b90",
   "metadata": {},
   "source": [
    "# <h2>Extract Name</h2>"
   ]
  },
  {
   "cell_type": "code",
   "execution_count": 22,
   "id": "4864ff0d",
   "metadata": {
    "scrolled": false
   },
   "outputs": [
    {
     "data": {
      "text/plain": [
       "[' Birth Date\\n\\nKathy Crawford May 6 1972\\n\\n']"
      ]
     },
     "execution_count": 22,
     "metadata": {},
     "output_type": "execute_result"
    }
   ],
   "source": [
    "import re\n",
    "\n",
    "\n",
    "pattern = 'Patient Information(.*?)\\(\\d{3}\\)'\n",
    "match = re.findall(pattern,text,flags=re.DOTALL)\n",
    "match"
   ]
  },
  {
   "cell_type": "code",
   "execution_count": 23,
   "id": "8dc3c54e",
   "metadata": {
    "scrolled": true
   },
   "outputs": [
    {
     "data": {
      "text/plain": [
       "'Birth Date\\n\\nKathy Crawford May 6 1972'"
      ]
     },
     "execution_count": 23,
     "metadata": {},
     "output_type": "execute_result"
    }
   ],
   "source": [
    "match[0].strip()"
   ]
  },
  {
   "cell_type": "code",
   "execution_count": 24,
   "id": "d11b4724",
   "metadata": {},
   "outputs": [
    {
     "data": {
      "text/plain": [
       "'Kathy Crawford May 6 1972'"
      ]
     },
     "execution_count": 24,
     "metadata": {},
     "output_type": "execute_result"
    }
   ],
   "source": [
    "matches = match[0].replace(\"Birth Date\",\"\").strip()\n",
    "matches"
   ]
  },
  {
   "cell_type": "code",
   "execution_count": 31,
   "id": "b86a1ebe",
   "metadata": {},
   "outputs": [],
   "source": [
    "pattern = '((Jan|Feb|March|April|May|June|July|Aug|Sep|Oct|Nov|Dec)[ \\d]+)'\n",
    "\n",
    "date_matches = re.findall(pattern,matches)\n",
    "\n",
    "date=date_matches[0][0]"
   ]
  },
  {
   "cell_type": "code",
   "execution_count": 32,
   "id": "d1f9dd1b",
   "metadata": {},
   "outputs": [
    {
     "data": {
      "text/plain": [
       "'Kathy Crawford'"
      ]
     },
     "execution_count": 32,
     "metadata": {},
     "output_type": "execute_result"
    }
   ],
   "source": [
    "matches.replace(date,'').strip()\n"
   ]
  },
  {
   "cell_type": "code",
   "execution_count": 36,
   "id": "f4d49f4e",
   "metadata": {},
   "outputs": [],
   "source": [
    "def remove_noise_from_name(name):\n",
    "    name = name.replace('Birth Date','').strip()\n",
    "    date_pattern =  '((Jan|Feb|March|April|May|June|July|Aug|Sep|Oct|Nov|Dec)[ \\d]+)'\n",
    "    date_matches = re.findall(date_pattern,name)\n",
    "    \n",
    "    if date_matches:\n",
    "        date = date_matches[0][0]\n",
    "        name = name.replace(date,'').strip()\n",
    "    \n",
    "    return name"
   ]
  },
  {
   "cell_type": "code",
   "execution_count": 37,
   "id": "cb9a1c9e",
   "metadata": {},
   "outputs": [
    {
     "data": {
      "text/plain": [
       "'Kathy Crawford'"
      ]
     },
     "execution_count": 37,
     "metadata": {},
     "output_type": "execute_result"
    }
   ],
   "source": [
    "name = ' Birth Date\\n\\nKathy Crawford May 6 1972\\n\\n'\n",
    "\n",
    "name = remove_noise_from_name(name)\n",
    "name "
   ]
  },
  {
   "cell_type": "markdown",
   "id": "e3a2b44b",
   "metadata": {},
   "source": [
    "# <h2>Extract Phone number</h2>"
   ]
  },
  {
   "cell_type": "code",
   "execution_count": 38,
   "id": "0e77a695",
   "metadata": {},
   "outputs": [
    {
     "data": {
      "text/plain": [
       "[(' Birth Date\\n\\nKathy Crawford May 6 1972\\n\\n', '(737) 988-0851')]"
      ]
     },
     "execution_count": 38,
     "metadata": {},
     "output_type": "execute_result"
    }
   ],
   "source": [
    "pattern  = 'Patient Information(.*?)(\\(\\d{3}\\) \\d{3}-\\d{4})'\n",
    "\n",
    "matches = re.findall(pattern,text,flags=re.DOTALL)\n",
    "matches"
   ]
  },
  {
   "cell_type": "code",
   "execution_count": 39,
   "id": "5b251a10",
   "metadata": {},
   "outputs": [
    {
     "data": {
      "text/plain": [
       "'(737) 988-0851'"
      ]
     },
     "execution_count": 39,
     "metadata": {},
     "output_type": "execute_result"
    }
   ],
   "source": [
    "matches[0][1]"
   ]
  },
  {
   "cell_type": "markdown",
   "id": "478a2990",
   "metadata": {},
   "source": [
    "<h2>Extract Vaccine info</h2>"
   ]
  },
  {
   "cell_type": "code",
   "execution_count": 40,
   "id": "eed72e57",
   "metadata": {},
   "outputs": [
    {
     "data": {
      "text/plain": [
       "['No']"
      ]
     },
     "execution_count": 40,
     "metadata": {},
     "output_type": "execute_result"
    }
   ],
   "source": [
    "\n",
    "pattern = 'Have you had the Hepatitis B vaccination\\?.*(Yes|No)'\n",
    "matches = re.findall(pattern,text,flags=re.DOTALL)\n",
    "matches"
   ]
  },
  {
   "cell_type": "markdown",
   "id": "51636f54",
   "metadata": {},
   "source": [
    "# <h2>Extract medical problems</h2>"
   ]
  },
  {
   "cell_type": "code",
   "execution_count": 46,
   "id": "11cb4a5f",
   "metadata": {},
   "outputs": [
    {
     "data": {
      "text/plain": [
       "'Migraine'"
      ]
     },
     "execution_count": 46,
     "metadata": {},
     "output_type": "execute_result"
    }
   ],
   "source": [
    "pattern = 'List any Medical Problems \\(asthma, seizures, headaches\\}:(.*)'\n",
    "\n",
    "matches = re.findall(pattern,text,flags=re.DOTALL)\n",
    "matches[0].strip()"
   ]
  },
  {
   "cell_type": "code",
   "execution_count": null,
   "id": "b567c19d",
   "metadata": {},
   "outputs": [],
   "source": []
  }
 ],
 "metadata": {
  "kernelspec": {
   "display_name": "Python 3 (ipykernel)",
   "language": "python",
   "name": "python3"
  },
  "language_info": {
   "codemirror_mode": {
    "name": "ipython",
    "version": 3
   },
   "file_extension": ".py",
   "mimetype": "text/x-python",
   "name": "python",
   "nbconvert_exporter": "python",
   "pygments_lexer": "ipython3",
   "version": "3.8.10"
  }
 },
 "nbformat": 4,
 "nbformat_minor": 5
}
